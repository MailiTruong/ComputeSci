{
 "cells": [
  {
   "cell_type": "markdown",
   "metadata": {},
   "source": [
    "# StackRush Analysis"
   ]
  },
  {
   "cell_type": "markdown",
   "metadata": {},
   "source": [
    "## Overview of our analysis:\n",
    "\n",
    "- we are going to see the progress of selected players of your choice through the evolution of their score game after game (Plot 1)\n",
    "- we are going the progress of selected players of your choice through their accuracy evolution game after game (Plot 2)\n",
    "- and finally to see more in depth we are going to see the accuracy of one chosen player through time in one chosen game only (Plot 3)"
   ]
  },
  {
   "cell_type": "markdown",
   "metadata": {},
   "source": [
    "\n",
    "\n",
    "### First loading the data\n"
   ]
  },
  {
   "cell_type": "code",
   "execution_count": 84,
   "metadata": {},
   "outputs": [],
   "source": [
    "import pandas as pd\n",
    "from pathlib import Path\n",
    "import numpy as np"
   ]
  },
  {
   "cell_type": "markdown",
   "metadata": {},
   "source": [
    "Let's add the game number, names and mean values for the misplacement of blocks to setup for the rest of the plots"
   ]
  },
  {
   "cell_type": "code",
   "execution_count": 85,
   "metadata": {},
   "outputs": [],
   "source": [
    "filepaths = [f for f in Path(\"./Players\").iterdir() if f.suffix == '.csv']\n",
    "dfs = []\n",
    "for f in filepaths:\n",
    "    df_temp = pd.read_csv(f)\n",
    "    df_temp.insert(0, \"names\", f.stem)\n",
    "    df_temp.insert(0, \"game number\", range(1, df_temp.shape[0] + 1))\n",
    "    dfs.append(df_temp)\n",
    "\n",
    "df = pd.concat(dfs, ignore_index=True)\n",
    "df['mean block width'] = df['block width difference'].apply(\n",
    "    lambda x: np.mean([float(num) for num in str(x).split(',')]) if pd.notnull(x) else np.nan\n",
    ")"
   ]
  },
  {
   "cell_type": "code",
   "execution_count": 86,
   "metadata": {},
   "outputs": [
    {
     "data": {
      "text/html": [
       "<div>\n",
       "<style scoped>\n",
       "    .dataframe tbody tr th:only-of-type {\n",
       "        vertical-align: middle;\n",
       "    }\n",
       "\n",
       "    .dataframe tbody tr th {\n",
       "        vertical-align: top;\n",
       "    }\n",
       "\n",
       "    .dataframe thead th {\n",
       "        text-align: right;\n",
       "    }\n",
       "</style>\n",
       "<table border=\"1\" class=\"dataframe\">\n",
       "  <thead>\n",
       "    <tr style=\"text-align: right;\">\n",
       "      <th></th>\n",
       "      <th>game number</th>\n",
       "      <th>names</th>\n",
       "      <th>score</th>\n",
       "      <th>highscore</th>\n",
       "      <th>block width difference</th>\n",
       "      <th>mean block width</th>\n",
       "    </tr>\n",
       "  </thead>\n",
       "  <tbody>\n",
       "    <tr>\n",
       "      <th>0</th>\n",
       "      <td>1</td>\n",
       "      <td>maili</td>\n",
       "      <td>2</td>\n",
       "      <td>6</td>\n",
       "      <td>82, 79</td>\n",
       "      <td>80.500000</td>\n",
       "    </tr>\n",
       "    <tr>\n",
       "      <th>1</th>\n",
       "      <td>2</td>\n",
       "      <td>maili</td>\n",
       "      <td>0</td>\n",
       "      <td>6</td>\n",
       "      <td>NaN</td>\n",
       "      <td>NaN</td>\n",
       "    </tr>\n",
       "    <tr>\n",
       "      <th>2</th>\n",
       "      <td>3</td>\n",
       "      <td>maili</td>\n",
       "      <td>7</td>\n",
       "      <td>7</td>\n",
       "      <td>86, 85, 80, 71, 60, 55, 23</td>\n",
       "      <td>65.714286</td>\n",
       "    </tr>\n",
       "    <tr>\n",
       "      <th>3</th>\n",
       "      <td>4</td>\n",
       "      <td>maili</td>\n",
       "      <td>0</td>\n",
       "      <td>6</td>\n",
       "      <td>NaN</td>\n",
       "      <td>NaN</td>\n",
       "    </tr>\n",
       "    <tr>\n",
       "      <th>4</th>\n",
       "      <td>5</td>\n",
       "      <td>maili</td>\n",
       "      <td>0</td>\n",
       "      <td>6</td>\n",
       "      <td>NaN</td>\n",
       "      <td>NaN</td>\n",
       "    </tr>\n",
       "    <tr>\n",
       "      <th>5</th>\n",
       "      <td>6</td>\n",
       "      <td>maili</td>\n",
       "      <td>3</td>\n",
       "      <td>6</td>\n",
       "      <td>99, 83, 81</td>\n",
       "      <td>87.666667</td>\n",
       "    </tr>\n",
       "    <tr>\n",
       "      <th>6</th>\n",
       "      <td>7</td>\n",
       "      <td>maili</td>\n",
       "      <td>0</td>\n",
       "      <td>6</td>\n",
       "      <td>NaN</td>\n",
       "      <td>NaN</td>\n",
       "    </tr>\n",
       "    <tr>\n",
       "      <th>7</th>\n",
       "      <td>8</td>\n",
       "      <td>maili</td>\n",
       "      <td>13</td>\n",
       "      <td>13</td>\n",
       "      <td>98, 94, 91, 72, 66, 60, 58, 54, 46, 32, 21, 16, 6</td>\n",
       "      <td>54.923077</td>\n",
       "    </tr>\n",
       "    <tr>\n",
       "      <th>8</th>\n",
       "      <td>9</td>\n",
       "      <td>maili</td>\n",
       "      <td>3</td>\n",
       "      <td>6</td>\n",
       "      <td>92, 92, 53</td>\n",
       "      <td>79.000000</td>\n",
       "    </tr>\n",
       "    <tr>\n",
       "      <th>9</th>\n",
       "      <td>10</td>\n",
       "      <td>maili</td>\n",
       "      <td>2</td>\n",
       "      <td>2</td>\n",
       "      <td>90, 81</td>\n",
       "      <td>85.500000</td>\n",
       "    </tr>\n",
       "    <tr>\n",
       "      <th>10</th>\n",
       "      <td>11</td>\n",
       "      <td>maili</td>\n",
       "      <td>0</td>\n",
       "      <td>0</td>\n",
       "      <td>NaN</td>\n",
       "      <td>NaN</td>\n",
       "    </tr>\n",
       "    <tr>\n",
       "      <th>11</th>\n",
       "      <td>12</td>\n",
       "      <td>maili</td>\n",
       "      <td>3</td>\n",
       "      <td>3</td>\n",
       "      <td>86, 77, 67</td>\n",
       "      <td>76.666667</td>\n",
       "    </tr>\n",
       "    <tr>\n",
       "      <th>12</th>\n",
       "      <td>13</td>\n",
       "      <td>maili</td>\n",
       "      <td>0</td>\n",
       "      <td>0</td>\n",
       "      <td>NaN</td>\n",
       "      <td>NaN</td>\n",
       "    </tr>\n",
       "    <tr>\n",
       "      <th>13</th>\n",
       "      <td>14</td>\n",
       "      <td>maili</td>\n",
       "      <td>6</td>\n",
       "      <td>6</td>\n",
       "      <td>94, 92, 92, 72, 60, 44</td>\n",
       "      <td>75.666667</td>\n",
       "    </tr>\n",
       "    <tr>\n",
       "      <th>14</th>\n",
       "      <td>15</td>\n",
       "      <td>maili</td>\n",
       "      <td>2</td>\n",
       "      <td>2</td>\n",
       "      <td>94, 84</td>\n",
       "      <td>89.000000</td>\n",
       "    </tr>\n",
       "    <tr>\n",
       "      <th>15</th>\n",
       "      <td>16</td>\n",
       "      <td>maili</td>\n",
       "      <td>1</td>\n",
       "      <td>6</td>\n",
       "      <td>82</td>\n",
       "      <td>82.000000</td>\n",
       "    </tr>\n",
       "    <tr>\n",
       "      <th>16</th>\n",
       "      <td>17</td>\n",
       "      <td>maili</td>\n",
       "      <td>0</td>\n",
       "      <td>6</td>\n",
       "      <td>NaN</td>\n",
       "      <td>NaN</td>\n",
       "    </tr>\n",
       "    <tr>\n",
       "      <th>17</th>\n",
       "      <td>18</td>\n",
       "      <td>maili</td>\n",
       "      <td>5</td>\n",
       "      <td>6</td>\n",
       "      <td>92, 92, 83, 77, 77</td>\n",
       "      <td>84.200000</td>\n",
       "    </tr>\n",
       "    <tr>\n",
       "      <th>18</th>\n",
       "      <td>19</td>\n",
       "      <td>maili</td>\n",
       "      <td>2</td>\n",
       "      <td>6</td>\n",
       "      <td>98, 87</td>\n",
       "      <td>92.500000</td>\n",
       "    </tr>\n",
       "    <tr>\n",
       "      <th>19</th>\n",
       "      <td>20</td>\n",
       "      <td>maili</td>\n",
       "      <td>0</td>\n",
       "      <td>6</td>\n",
       "      <td>NaN</td>\n",
       "      <td>NaN</td>\n",
       "    </tr>\n",
       "    <tr>\n",
       "      <th>20</th>\n",
       "      <td>21</td>\n",
       "      <td>maili</td>\n",
       "      <td>2</td>\n",
       "      <td>2</td>\n",
       "      <td>98, 84</td>\n",
       "      <td>91.000000</td>\n",
       "    </tr>\n",
       "    <tr>\n",
       "      <th>21</th>\n",
       "      <td>22</td>\n",
       "      <td>maili</td>\n",
       "      <td>0</td>\n",
       "      <td>0</td>\n",
       "      <td>NaN</td>\n",
       "      <td>NaN</td>\n",
       "    </tr>\n",
       "    <tr>\n",
       "      <th>22</th>\n",
       "      <td>23</td>\n",
       "      <td>maili</td>\n",
       "      <td>1</td>\n",
       "      <td>1</td>\n",
       "      <td>86</td>\n",
       "      <td>86.000000</td>\n",
       "    </tr>\n",
       "    <tr>\n",
       "      <th>23</th>\n",
       "      <td>1</td>\n",
       "      <td>tim</td>\n",
       "      <td>14</td>\n",
       "      <td>14</td>\n",
       "      <td>94, 81, 74, 68, 65, 52, 48, 48, 46, 44, 36, 20...</td>\n",
       "      <td>49.785714</td>\n",
       "    </tr>\n",
       "    <tr>\n",
       "      <th>24</th>\n",
       "      <td>2</td>\n",
       "      <td>tim</td>\n",
       "      <td>0</td>\n",
       "      <td>6</td>\n",
       "      <td>NaN</td>\n",
       "      <td>NaN</td>\n",
       "    </tr>\n",
       "    <tr>\n",
       "      <th>25</th>\n",
       "      <td>3</td>\n",
       "      <td>tim</td>\n",
       "      <td>2</td>\n",
       "      <td>6</td>\n",
       "      <td>100, 70</td>\n",
       "      <td>85.000000</td>\n",
       "    </tr>\n",
       "    <tr>\n",
       "      <th>26</th>\n",
       "      <td>4</td>\n",
       "      <td>tim</td>\n",
       "      <td>4</td>\n",
       "      <td>4</td>\n",
       "      <td>96, 83, 73, 58</td>\n",
       "      <td>77.500000</td>\n",
       "    </tr>\n",
       "    <tr>\n",
       "      <th>27</th>\n",
       "      <td>5</td>\n",
       "      <td>tim</td>\n",
       "      <td>0</td>\n",
       "      <td>0</td>\n",
       "      <td>NaN</td>\n",
       "      <td>NaN</td>\n",
       "    </tr>\n",
       "    <tr>\n",
       "      <th>28</th>\n",
       "      <td>6</td>\n",
       "      <td>tim</td>\n",
       "      <td>0</td>\n",
       "      <td>0</td>\n",
       "      <td>NaN</td>\n",
       "      <td>NaN</td>\n",
       "    </tr>\n",
       "    <tr>\n",
       "      <th>29</th>\n",
       "      <td>7</td>\n",
       "      <td>tim</td>\n",
       "      <td>4</td>\n",
       "      <td>4</td>\n",
       "      <td>96, 95, 86, 85</td>\n",
       "      <td>90.500000</td>\n",
       "    </tr>\n",
       "    <tr>\n",
       "      <th>30</th>\n",
       "      <td>8</td>\n",
       "      <td>tim</td>\n",
       "      <td>1</td>\n",
       "      <td>1</td>\n",
       "      <td>97</td>\n",
       "      <td>97.000000</td>\n",
       "    </tr>\n",
       "  </tbody>\n",
       "</table>\n",
       "</div>"
      ],
      "text/plain": [
       "    game number  names score highscore  \\\n",
       "0             1  maili     2         6   \n",
       "1             2  maili     0         6   \n",
       "2             3  maili     7         7   \n",
       "3             4  maili     0         6   \n",
       "4             5  maili     0         6   \n",
       "5             6  maili     3         6   \n",
       "6             7  maili     0         6   \n",
       "7             8  maili    13        13   \n",
       "8             9  maili     3         6   \n",
       "9            10  maili     2         2   \n",
       "10           11  maili     0         0   \n",
       "11           12  maili     3         3   \n",
       "12           13  maili     0         0   \n",
       "13           14  maili     6         6   \n",
       "14           15  maili     2         2   \n",
       "15           16  maili     1         6   \n",
       "16           17  maili     0         6   \n",
       "17           18  maili     5         6   \n",
       "18           19  maili     2         6   \n",
       "19           20  maili     0         6   \n",
       "20           21  maili     2         2   \n",
       "21           22  maili     0         0   \n",
       "22           23  maili     1         1   \n",
       "23            1    tim    14        14   \n",
       "24            2    tim     0         6   \n",
       "25            3    tim     2         6   \n",
       "26            4    tim     4         4   \n",
       "27            5    tim     0         0   \n",
       "28            6    tim     0         0   \n",
       "29            7    tim     4         4   \n",
       "30            8    tim     1         1   \n",
       "\n",
       "                               block width difference  mean block width  \n",
       "0                                              82, 79         80.500000  \n",
       "1                                                 NaN               NaN  \n",
       "2                          86, 85, 80, 71, 60, 55, 23         65.714286  \n",
       "3                                                 NaN               NaN  \n",
       "4                                                 NaN               NaN  \n",
       "5                                          99, 83, 81         87.666667  \n",
       "6                                                 NaN               NaN  \n",
       "7   98, 94, 91, 72, 66, 60, 58, 54, 46, 32, 21, 16, 6         54.923077  \n",
       "8                                          92, 92, 53         79.000000  \n",
       "9                                              90, 81         85.500000  \n",
       "10                                                NaN               NaN  \n",
       "11                                         86, 77, 67         76.666667  \n",
       "12                                                NaN               NaN  \n",
       "13                             94, 92, 92, 72, 60, 44         75.666667  \n",
       "14                                             94, 84         89.000000  \n",
       "15                                                 82         82.000000  \n",
       "16                                                NaN               NaN  \n",
       "17                                 92, 92, 83, 77, 77         84.200000  \n",
       "18                                             98, 87         92.500000  \n",
       "19                                                NaN               NaN  \n",
       "20                                             98, 84         91.000000  \n",
       "21                                                NaN               NaN  \n",
       "22                                                 86         86.000000  \n",
       "23  94, 81, 74, 68, 65, 52, 48, 48, 46, 44, 36, 20...         49.785714  \n",
       "24                                                NaN               NaN  \n",
       "25                                            100, 70         85.000000  \n",
       "26                                     96, 83, 73, 58         77.500000  \n",
       "27                                                NaN               NaN  \n",
       "28                                                NaN               NaN  \n",
       "29                                     96, 95, 86, 85         90.500000  \n",
       "30                                                 97         97.000000  "
      ]
     },
     "metadata": {},
     "output_type": "display_data"
    }
   ],
   "source": [
    "display(df)"
   ]
  },
  {
   "cell_type": "markdown",
   "metadata": {},
   "source": [
    "# Plotting"
   ]
  },
  {
   "cell_type": "markdown",
   "metadata": {},
   "source": [
    "### The firs two plots are similar in form but not in content but I wanted to keep the same form as I found it interesting to really visualize if a progression in score meant that the person augmented its reaction time !"
   ]
  },
  {
   "cell_type": "markdown",
   "metadata": {},
   "source": [
    "### 1. First Plot"
   ]
  },
  {
   "cell_type": "code",
   "execution_count": 87,
   "metadata": {},
   "outputs": [],
   "source": [
    "import matplotlib.pyplot as plt\n",
    "import ipywidgets as widgets\n",
    "from IPython.display import display"
   ]
  },
  {
   "cell_type": "code",
   "execution_count": 88,
   "metadata": {},
   "outputs": [
    {
     "name": "stdout",
     "output_type": "stream",
     "text": [
      "Click on Plot scores to plot the default players or select players amongst all players by clicking and pressing on shift\n"
     ]
    },
    {
     "data": {
      "application/vnd.jupyter.widget-view+json": {
       "model_id": "d7583867785445aa8c800936030d76f9",
       "version_major": 2,
       "version_minor": 0
      },
      "text/plain": [
       "SelectMultiple(description='Players:', options=('maili', 'tim'), value=())"
      ]
     },
     "metadata": {},
     "output_type": "display_data"
    },
    {
     "data": {
      "application/vnd.jupyter.widget-view+json": {
       "model_id": "63d90414533a42fda3840dc181e9027b",
       "version_major": 2,
       "version_minor": 0
      },
      "text/plain": [
       "Button(description='Plot Scores', style=ButtonStyle())"
      ]
     },
     "metadata": {},
     "output_type": "display_data"
    }
   ],
   "source": [
    "available_players = df['names'].unique()\n",
    "print(\"Click on Plot scores to plot the default players or select players amongst all players by clicking and pressing on shift\")\n",
    "# Create a multi-select widget\n",
    "player_selector = widgets.SelectMultiple(\n",
    "    options=available_players,\n",
    "    description='Players:',\n",
    "    disabled=False\n",
    ")\n",
    "plot_button = widgets.Button(description=\"Plot Scores\")\n",
    "\n",
    "# Function to plot the selected players\n",
    "def plot_scores(button):\n",
    "    plt.close('all')\n",
    "    selected_players = list(player_selector.value)\n",
    "    plt.figure(figsize=(10, 6))\n",
    "    if not selected_players:\n",
    "        print(\"No valid players selected, showing the first 10 players by default.\")\n",
    "        for i, (player, group) in enumerate(df.groupby('names')):\n",
    "            if i >= 10: break\n",
    "            plt.plot(group['game number'], group['score'], label=player, marker='o')\n",
    "    else:\n",
    "        for player, group in df[df['names'].isin(selected_players)].groupby('names'):\n",
    "            plt.plot(group['game number'], group['score'], label=player, marker='o')\n",
    "    \n",
    "    plt.xlabel('Number of Games')\n",
    "    plt.ylabel('Score')\n",
    "    plt.title('Progress Through Score Evolution')\n",
    "    plt.legend(title=\"Players\")\n",
    "    plt.grid(True)\n",
    "    plt.show()\n",
    "\n",
    "plot_button.on_click(plot_scores)\n",
    "display(player_selector, plot_button)"
   ]
  },
  {
   "cell_type": "markdown",
   "metadata": {},
   "source": [
    "### 2. Second Plot"
   ]
  },
  {
   "cell_type": "markdown",
   "metadata": {},
   "source": [
    "### For the two last diagrams what I call inverse accuracy is actually how far the player is from the last block position which means that the bigger the error (block width difference with the last) the less the player is accurate"
   ]
  },
  {
   "cell_type": "code",
   "execution_count": 89,
   "metadata": {},
   "outputs": [
    {
     "name": "stdout",
     "output_type": "stream",
     "text": [
      "Click on Plot scores to plot the default players or select players amongst all players by clicking and pressing on shift\n"
     ]
    },
    {
     "data": {
      "application/vnd.jupyter.widget-view+json": {
       "model_id": "e3e1e098476242d69f57410996df4bb7",
       "version_major": 2,
       "version_minor": 0
      },
      "text/plain": [
       "SelectMultiple(description='Players:', options=('maili', 'tim'), value=())"
      ]
     },
     "metadata": {},
     "output_type": "display_data"
    },
    {
     "data": {
      "application/vnd.jupyter.widget-view+json": {
       "model_id": "d7f52faced0444c496694aa7a5866d4f",
       "version_major": 2,
       "version_minor": 0
      },
      "text/plain": [
       "Button(description='Plot Scores', style=ButtonStyle())"
      ]
     },
     "metadata": {},
     "output_type": "display_data"
    }
   ],
   "source": [
    "available_players = df['names'].unique()\n",
    "print(\"Click on Plot scores to plot the default players or select players amongst all players by clicking and pressing on shift\")\n",
    "# Create a multi-select widget\n",
    "player_selector = widgets.SelectMultiple(\n",
    "    options=available_players,\n",
    "    description='Players:',\n",
    "    disabled=False\n",
    ")\n",
    "plot_button = widgets.Button(description=\"Plot Scores\")\n",
    "\n",
    "# Function to plot the selected players\n",
    "def plot_scores(button):\n",
    "    plt.close('all')\n",
    "    selected_players = list(player_selector.value)\n",
    "    plt.figure(figsize=(10, 6))\n",
    "    if not selected_players:\n",
    "        print(\"No valid players selected, showing the first 10 players by default.\")\n",
    "        for i, (player, group) in enumerate(df.groupby('names')):\n",
    "            if i >= 10: break\n",
    "            plt.plot(group['game number'], group['mean block width'], label=player, marker='o')\n",
    "    else:\n",
    "        for player, group in df[df['names'].isin(selected_players)].groupby('names'):\n",
    "            plt.plot(group['game number'], group['mean block width'], label=player, marker='o')\n",
    "    \n",
    "    plt.xlabel('Number of Games')\n",
    "    plt.ylabel('Inverse Accuracy')\n",
    "    plt.title('Progress Through Accuracy Evolution')\n",
    "    plt.legend(title=\"Players\")\n",
    "    plt.grid(True)\n",
    "    plt.show()\n",
    "\n",
    "plot_button.on_click(plot_scores)\n",
    "display(player_selector, plot_button)"
   ]
  },
  {
   "cell_type": "markdown",
   "metadata": {},
   "source": [
    "### 3. Third Plot"
   ]
  },
  {
   "cell_type": "code",
   "execution_count": 90,
   "metadata": {},
   "outputs": [
    {
     "data": {
      "application/vnd.jupyter.widget-view+json": {
       "model_id": "e3e1e098476242d69f57410996df4bb7",
       "version_major": 2,
       "version_minor": 0
      },
      "text/plain": [
       "SelectMultiple(description='Players:', options=('maili', 'tim'), value=())"
      ]
     },
     "metadata": {},
     "output_type": "display_data"
    },
    {
     "data": {
      "application/vnd.jupyter.widget-view+json": {
       "model_id": "853966eee788431594e1edb7928e9be7",
       "version_major": 2,
       "version_minor": 0
      },
      "text/plain": [
       "Dropdown(description='Game:', options=(np.int64(1), np.int64(2), np.int64(3), np.int64(4), np.int64(5), np.int…"
      ]
     },
     "metadata": {},
     "output_type": "display_data"
    },
    {
     "data": {
      "application/vnd.jupyter.widget-view+json": {
       "model_id": "584eac8ae820438482d2cd35d300e611",
       "version_major": 2,
       "version_minor": 0
      },
      "text/plain": [
       "Button(description='Plot Block Diagram', style=ButtonStyle())"
      ]
     },
     "metadata": {},
     "output_type": "display_data"
    }
   ],
   "source": [
    "game_selector = widgets.Dropdown(\n",
    "    options=df['game number'].unique(),\n",
    "    description='Game:',\n",
    "    disabled=False\n",
    ")\n",
    "\n",
    "plot_button = widgets.Button(description=\"Plot Block Diagram\")\n",
    "\n",
    "def plot_block_diagram(button):\n",
    "\n",
    "    selected_player = player_selector.value\n",
    "    if isinstance(selected_player, tuple):\n",
    "        selected_player = selected_player[0] \n",
    "\n",
    "    selected_game = game_selector.value\n",
    "    selected_game = int(selected_game)\n",
    "    filtered_df = df[\n",
    "        (df['names'] == selected_player) & \n",
    "        (df['game number'] == selected_game)\n",
    "    ]\n",
    "\n",
    "    if filtered_df.empty:\n",
    "        print(\"No data found for the selected player and game.\")\n",
    "        return\n",
    "\n",
    "    block_widths = filtered_df['block width difference'].iloc[0]\n",
    "    if pd.isnull(block_widths):\n",
    "        print(\"No block width difference data available for this selection.\")\n",
    "        return\n",
    "    \n",
    "    block_widths = [float(num) for num in block_widths.split(',')]\n",
    "    plt.figure(figsize=(10, 6))\n",
    "    plt.bar(range(1, len(block_widths) + 1), block_widths, color='skyblue')\n",
    "    plt.xlabel('Time')\n",
    "    plt.ylabel('Inverse Accuracy')\n",
    "    plt.title(f'Block Width Differences for {selected_player} in Game {selected_game}')\n",
    "    plt.grid(axis='y', linestyle='--', alpha=0.7)\n",
    "    plt.show()\n",
    "\n",
    "\n",
    "\n",
    "plot_button.on_click(plot_block_diagram)\n",
    "display(player_selector, game_selector, plot_button)"
   ]
  }
 ],
 "metadata": {
  "kernelspec": {
   "display_name": ".venv",
   "language": "python",
   "name": "python3"
  },
  "language_info": {
   "codemirror_mode": {
    "name": "ipython",
    "version": 3
   },
   "file_extension": ".py",
   "mimetype": "text/x-python",
   "name": "python",
   "nbconvert_exporter": "python",
   "pygments_lexer": "ipython3",
   "version": "3.12.2"
  }
 },
 "nbformat": 4,
 "nbformat_minor": 2
}
